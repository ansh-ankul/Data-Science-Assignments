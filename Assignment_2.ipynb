{
 "cells": [
  {
   "cell_type": "markdown",
   "id": "88d98f0d",
   "metadata": {},
   "source": [
    "## Assignment - 2"
   ]
  },
  {
   "cell_type": "markdown",
   "id": "22f66519",
   "metadata": {},
   "source": [
    "**Q1.What are the two values of the Boolean data type? How do you write them?**"
   ]
  },
  {
   "cell_type": "code",
   "execution_count": 1,
   "id": "506cd2eb",
   "metadata": {},
   "outputs": [
    {
     "name": "stdout",
     "output_type": "stream",
     "text": [
      "True False\n"
     ]
    }
   ],
   "source": [
    "a = True\n",
    "b = False\n",
    "print(a,b)"
   ]
  },
  {
   "cell_type": "markdown",
   "id": "0dddd9cb",
   "metadata": {},
   "source": [
    "**Q2. What are the three different types of Boolean operators?**"
   ]
  },
  {
   "cell_type": "markdown",
   "id": "6ee74709",
   "metadata": {},
   "source": [
    "and, or, not"
   ]
  },
  {
   "cell_type": "markdown",
   "id": "81bb0025",
   "metadata": {},
   "source": [
    "**Q3. Make a list of each Boolean operator&#39;s truth tables (i.e. every possible combination of Boolean\n",
    "values for the operator and what it evaluate ).**"
   ]
  },
  {
   "cell_type": "code",
   "execution_count": 5,
   "id": "b94382c6",
   "metadata": {},
   "outputs": [],
   "source": [
    "# A    B     AandB     AorB    notA\n",
    "\n",
    "# 0    0       0        0       1\n",
    " \n",
    "# 0    1       0        1       1\n",
    " \n",
    "# 1    0       0        1       0\n",
    " \n",
    "# 1    1       1        1       0"
   ]
  },
  {
   "cell_type": "markdown",
   "id": "55bb2ed3",
   "metadata": {},
   "source": [
    "**Q4. What are the values of the following expressions?**\n",
    "1. (5 &gt; 4) and (3 == 5)\n",
    "2. not (5 &gt; 4)\n",
    "3. (5 &gt; 4) or (3 == 5)\n",
    "4. not ((5 &gt; 4) or (3 == 5))\n",
    "5. (True and True) and (True == False)\n",
    "6. (not False) or (not True)"
   ]
  },
  {
   "cell_type": "markdown",
   "id": "67237646",
   "metadata": {},
   "source": [
    "A. \n",
    "1. False\n",
    "2. False\n",
    "3. True\n",
    "4. False\n",
    "5. False\n",
    "6. True"
   ]
  },
  {
   "cell_type": "markdown",
   "id": "bac60d39",
   "metadata": {},
   "source": [
    "**Q5. What are the six comparison operators?**"
   ]
  },
  {
   "cell_type": "markdown",
   "id": "489c1494",
   "metadata": {},
   "source": [
    "- equal to : ==\n",
    "- less than: <\n",
    "- greater than: >\n",
    "- less than  equal to: <=\n",
    "- greater then equal to: >=\n",
    "- not equal to: !="
   ]
  },
  {
   "cell_type": "markdown",
   "id": "cd1ea044",
   "metadata": {},
   "source": [
    "**Q6. How do you tell the difference between the equal to and assignment operators?Describe a condition and when you would use one.**"
   ]
  },
  {
   "cell_type": "markdown",
   "id": "2f50989d",
   "metadata": {},
   "source": [
    "- equal to operator - ==\n",
    "- assignment operator - ="
   ]
  },
  {
   "cell_type": "code",
   "execution_count": 7,
   "id": "783fbfc0",
   "metadata": {},
   "outputs": [
    {
     "name": "stdout",
     "output_type": "stream",
     "text": [
      "False\n"
     ]
    }
   ],
   "source": [
    "a = (10 == 20)\n",
    "print(a)"
   ]
  },
  {
   "cell_type": "markdown",
   "id": "9da45e20",
   "metadata": {},
   "source": [
    "**Q7. Identify the three blocks in this code:**\n",
    "\n",
    "`spam = 0\n",
    "if spam == 10:\n",
    "print('eggs')\n",
    "if spam>5:\n",
    "print('bacon')\n",
    "else:\n",
    "print('ham')\n",
    "print('spam')\n",
    "print('spam')`"
   ]
  },
  {
   "cell_type": "code",
   "execution_count": 8,
   "id": "57dd2ebd",
   "metadata": {},
   "outputs": [
    {
     "name": "stdout",
     "output_type": "stream",
     "text": [
      "ham\n",
      "spam\n",
      "spam\n"
     ]
    }
   ],
   "source": [
    "spam = 0\n",
    "if spam == 10:\n",
    "    print('eggs')\n",
    "if spam>5:\n",
    "    print('bacon')\n",
    "else:\n",
    "    print('ham')\n",
    "    print('spam')\n",
    "    print('spam')"
   ]
  },
  {
   "cell_type": "markdown",
   "id": "561618c4",
   "metadata": {},
   "source": [
    "**Q8. Write code that prints Hello if 1 is stored in spam, prints Howdy if 2 is stored in spam, and prints\n",
    "Greetings! if anything else is stored in spam.**"
   ]
  },
  {
   "cell_type": "code",
   "execution_count": 9,
   "id": "ca12df3a",
   "metadata": {},
   "outputs": [
    {
     "name": "stdout",
     "output_type": "stream",
     "text": [
      "Howdy\n"
     ]
    }
   ],
   "source": [
    "spam = 2\n",
    "if(spam ==1):\n",
    "    print('Hello')\n",
    "elif(spam ==2):\n",
    "    print('Howdy')\n",
    "else:\n",
    "    print('Greetings')"
   ]
  },
  {
   "cell_type": "markdown",
   "id": "38364752",
   "metadata": {},
   "source": [
    "**Q9.If your programme is stuck in an endless loop, what keys you’ll press?**"
   ]
  },
  {
   "cell_type": "markdown",
   "id": "9ed27b67",
   "metadata": {},
   "source": [
    "If my program is stuck in an endless loop i can interrupt the kernel so that the interpretation of my code stops. (Esc + i,i)"
   ]
  },
  {
   "cell_type": "markdown",
   "id": "cf4c0730",
   "metadata": {},
   "source": [
    "**Q10. How can you tell the difference between break and continue?**"
   ]
  },
  {
   "cell_type": "markdown",
   "id": "69c95bfc",
   "metadata": {},
   "source": [
    "The primary difference between break and continue statement is that the break statement leads to an immediate exit of the innermost switch or enclosing loop."
   ]
  },
  {
   "cell_type": "markdown",
   "id": "067e5495",
   "metadata": {},
   "source": [
    "**Q11. In a for loop, what is the difference between range(10), range(0, 10), and range(0, 10, 1)?**"
   ]
  },
  {
   "cell_type": "markdown",
   "id": "f49b533a",
   "metadata": {},
   "source": [
    "There is no difference between these 3 expressions as all of them are same as the default jump is +1 and the range is considered in the direction of the jump."
   ]
  },
  {
   "cell_type": "markdown",
   "id": "b1bae61d",
   "metadata": {},
   "source": [
    "**Q12. Write a short program that prints the numbers 1 to 10 using a for loop. Then write an equivalent\n",
    "program that prints the numbers 1 to 10 using a while loop.**"
   ]
  },
  {
   "cell_type": "code",
   "execution_count": 12,
   "id": "84f9f7b2",
   "metadata": {},
   "outputs": [
    {
     "name": "stdout",
     "output_type": "stream",
     "text": [
      "1\n",
      "2\n",
      "3\n",
      "4\n",
      "5\n",
      "6\n",
      "7\n",
      "8\n",
      "9\n",
      "10\n"
     ]
    }
   ],
   "source": [
    "for i in range(10):\n",
    "    print(i+1)"
   ]
  },
  {
   "cell_type": "code",
   "execution_count": 15,
   "id": "be96bae6",
   "metadata": {},
   "outputs": [
    {
     "name": "stdout",
     "output_type": "stream",
     "text": [
      "1\n",
      "2\n",
      "3\n",
      "4\n",
      "5\n",
      "6\n",
      "7\n",
      "8\n",
      "9\n",
      "10\n"
     ]
    }
   ],
   "source": [
    "i=0\n",
    "while i in range(10):\n",
    "    print(i+1)\n",
    "    i+=1"
   ]
  },
  {
   "cell_type": "markdown",
   "id": "e243eea0",
   "metadata": {},
   "source": [
    "**Q13. If you had a function named bacon() inside a module named spam, how would you call it after\n",
    "importing spam?**"
   ]
  },
  {
   "cell_type": "markdown",
   "id": "08984c70",
   "metadata": {},
   "source": [
    "spam.bacon()"
   ]
  }
 ],
 "metadata": {
  "kernelspec": {
   "display_name": "Python 3 (ipykernel)",
   "language": "python",
   "name": "python3"
  },
  "language_info": {
   "codemirror_mode": {
    "name": "ipython",
    "version": 3
   },
   "file_extension": ".py",
   "mimetype": "text/x-python",
   "name": "python",
   "nbconvert_exporter": "python",
   "pygments_lexer": "ipython3",
   "version": "3.9.12"
  }
 },
 "nbformat": 4,
 "nbformat_minor": 5
}
