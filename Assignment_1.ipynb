{
 "cells": [
  {
   "cell_type": "markdown",
   "id": "e377613d",
   "metadata": {},
   "source": [
    "## Assignment -1"
   ]
  },
  {
   "cell_type": "markdown",
   "id": "3de30f5c",
   "metadata": {},
   "source": [
    "**Q1. In the below elements which of them are values or an expression? eg:- values can be integer or string and expressions will be mathematical operators.**\n",
    "\n",
    "1. *\n",
    "2. &#39;hello&#39;\n",
    "3. -87.8\n",
    "4. -\n",
    "5. /\n",
    "6. +\n",
    "7. 6\n"
   ]
  },
  {
   "cell_type": "markdown",
   "id": "01310037",
   "metadata": {},
   "source": [
    "A. Values are: ('hello', -87.8, 6)\n",
    "   Expressions are: (*, -, /, +)"
   ]
  },
  {
   "cell_type": "markdown",
   "id": "5efb619c",
   "metadata": {},
   "source": [
    "**Q2. What is the difference between string and variable?**"
   ]
  },
  {
   "cell_type": "markdown",
   "id": "02bc5ef9",
   "metadata": {},
   "source": [
    "A. String is data type which you store in a variable whereas a variable is something which stores data. A string variable can be created easily to store strings."
   ]
  },
  {
   "cell_type": "markdown",
   "id": "9bd9e8ca",
   "metadata": {},
   "source": [
    "**Q3. Describe three different data types.**"
   ]
  },
  {
   "cell_type": "markdown",
   "id": "6da129ab",
   "metadata": {},
   "source": [
    "A. \n",
    "1. int: Used to store integer values \n",
    "2. str: Used to store textual data\n",
    "3. complex: Used to store complex numbers\n",
    "\n",
    "Examples:"
   ]
  },
  {
   "cell_type": "code",
   "execution_count": 2,
   "id": "a728e381",
   "metadata": {},
   "outputs": [
    {
     "name": "stdout",
     "output_type": "stream",
     "text": [
      "<class 'int'> : 10 \n",
      " <class 'str'> : ansh ankul \n",
      " <class 'complex'> : (2+4j)\n"
     ]
    }
   ],
   "source": [
    "a = 10\n",
    "b = \"ansh ankul\"\n",
    "c = 2+4j\n",
    "print(type(a),\":\",a,\"\\n\",type(b),\":\",b,\"\\n\",type(c),\":\",c)"
   ]
  },
  {
   "cell_type": "markdown",
   "id": "d83e2244",
   "metadata": {},
   "source": [
    "**Q4. What is an expression made up of? What do all expressions do?**"
   ]
  },
  {
   "cell_type": "markdown",
   "id": "f772c0b7",
   "metadata": {},
   "source": [
    "A. An expression is a combination of operators and operands that results into a value. For example: "
   ]
  },
  {
   "cell_type": "code",
   "execution_count": 3,
   "id": "32d1a124",
   "metadata": {},
   "outputs": [
    {
     "name": "stdout",
     "output_type": "stream",
     "text": [
      "200\n"
     ]
    }
   ],
   "source": [
    "a =10\n",
    "b =20 \n",
    "print(a*b) #expression"
   ]
  },
  {
   "cell_type": "markdown",
   "id": "e501f800",
   "metadata": {},
   "source": [
    "**Q5. This assignment statements, like spam = 10. What is the difference between an expression and a statement?**"
   ]
  },
  {
   "cell_type": "markdown",
   "id": "9b2626e8",
   "metadata": {},
   "source": [
    "A. An expression is not intended to store a value. It just genrates a value, whereas, a statement is intended to store a value inside a variable. For example: "
   ]
  },
  {
   "cell_type": "code",
   "execution_count": 4,
   "id": "0d7656d6",
   "metadata": {},
   "outputs": [
    {
     "name": "stdout",
     "output_type": "stream",
     "text": [
      "100\n"
     ]
    }
   ],
   "source": [
    "a = 10      # Assignment statement\n",
    "print(a*a)  # Expression"
   ]
  },
  {
   "cell_type": "markdown",
   "id": "4334de21",
   "metadata": {},
   "source": [
    "**Q6. After running the following code, what does the variable bacon contain?**\n",
    "```\n",
    "bacon = 22\n",
    "bacon + 1\n",
    "```"
   ]
  },
  {
   "cell_type": "code",
   "execution_count": 5,
   "id": "1a3bcee2",
   "metadata": {},
   "outputs": [
    {
     "name": "stdout",
     "output_type": "stream",
     "text": [
      "22\n"
     ]
    }
   ],
   "source": [
    "bacon = 22\n",
    "bacon+1\n",
    "print(bacon)"
   ]
  },
  {
   "cell_type": "markdown",
   "id": "217d9041",
   "metadata": {},
   "source": [
    "**Q7. What should the values of the following two terms be?**\n",
    "\n",
    "`'spam'+'spamspam'\n",
    "'spam'*3`"
   ]
  },
  {
   "cell_type": "markdown",
   "id": "eb3b03e5",
   "metadata": {},
   "source": [
    "A. Same value for both."
   ]
  },
  {
   "cell_type": "code",
   "execution_count": 6,
   "id": "fd5adc47",
   "metadata": {},
   "outputs": [
    {
     "data": {
      "text/plain": [
       "'spamspamspam'"
      ]
     },
     "execution_count": 6,
     "metadata": {},
     "output_type": "execute_result"
    }
   ],
   "source": [
    "'spam'+'spamspam'"
   ]
  },
  {
   "cell_type": "code",
   "execution_count": 7,
   "id": "eb1cfe99",
   "metadata": {},
   "outputs": [
    {
     "data": {
      "text/plain": [
       "'spamspamspam'"
      ]
     },
     "execution_count": 7,
     "metadata": {},
     "output_type": "execute_result"
    }
   ],
   "source": [
    "'spam'*3"
   ]
  },
  {
   "cell_type": "markdown",
   "id": "2413b87d",
   "metadata": {},
   "source": [
    "**Q8. Why is eggs a valid variable name while 100 is invalid?**"
   ]
  },
  {
   "cell_type": "markdown",
   "id": "e7e140b0",
   "metadata": {},
   "source": [
    "A. According to the nomenclature rules, user defined keywords in python cannot be a constant like 100. 'eggs' is valid as it not a built in keyword or a constant."
   ]
  },
  {
   "cell_type": "markdown",
   "id": "7892f783",
   "metadata": {},
   "source": [
    "**Q9. What three functions can be used to get the integer, floating-point number, or string version of a value?**"
   ]
  },
  {
   "cell_type": "code",
   "execution_count": 11,
   "id": "eaf0f16d",
   "metadata": {},
   "outputs": [
    {
     "name": "stdout",
     "output_type": "stream",
     "text": [
      "10   10   10.0\n"
     ]
    }
   ],
   "source": [
    "b = 10\n",
    "print(str(b),\" \",int(b),\" \",float(b))"
   ]
  },
  {
   "cell_type": "markdown",
   "id": "e7b14a5f",
   "metadata": {},
   "source": [
    "**Q10. Why does this expression cause an error? How can you fix it?**\n",
    "\n",
    "```'I have eaten' + 99 + 'burritos.'```"
   ]
  },
  {
   "cell_type": "markdown",
   "id": "4187cd88",
   "metadata": {},
   "source": [
    "A. This expression is causing an error as it is trying to concatenate int type with str type which is not possible in python. This can be fixed through proper type conversion/casting."
   ]
  },
  {
   "cell_type": "code",
   "execution_count": 13,
   "id": "9d7a8f1b",
   "metadata": {},
   "outputs": [
    {
     "data": {
      "text/plain": [
       "'I have eaten 99 burritos.'"
      ]
     },
     "execution_count": 13,
     "metadata": {},
     "output_type": "execute_result"
    }
   ],
   "source": [
    "'I have eaten '+str(99)+' burritos.'"
   ]
  }
 ],
 "metadata": {
  "kernelspec": {
   "display_name": "Python 3 (ipykernel)",
   "language": "python",
   "name": "python3"
  },
  "language_info": {
   "codemirror_mode": {
    "name": "ipython",
    "version": 3
   },
   "file_extension": ".py",
   "mimetype": "text/x-python",
   "name": "python",
   "nbconvert_exporter": "python",
   "pygments_lexer": "ipython3",
   "version": "3.9.12"
  }
 },
 "nbformat": 4,
 "nbformat_minor": 5
}
